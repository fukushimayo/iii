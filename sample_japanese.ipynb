{
 "cells": [
  {
   "cell_type": "markdown",
   "metadata": {
    "id": "2XHlBINWI-hS"
   },
   "source": [
    "# Google Colaboratory を利用した ieinn ライブラリの使用例\n",
    "Google Colaboratory(以下 Google Colab)を利用すれば、簡単に Python の実行環境を構築できます. GPU も無料で使用できます. ここでは Google Colab を利用した ieinn ライブラリの使用例を紹介します. \n",
    "## Google drive をマウントし, ieinn ライブラリを Google drive にダウンロードします。"
   ]
  },
  {
   "cell_type": "code",
   "execution_count": null,
   "metadata": {},
   "outputs": [],
   "source": [
    "!git clone https://github.com/AoiHonda-lab/IEI-NeuralNetwork.git\n",
    "%cd IEI-NeuralNetwork"
   ]
  },
  {
   "cell_type": "markdown",
   "metadata": {
    "id": "t3UsTarFKnIG"
   },
   "source": [
    "## 必要なライブラリをインポートします"
   ]
  },
  {
   "cell_type": "code",
   "execution_count": 1,
   "metadata": {
    "executionInfo": {
     "elapsed": 6673,
     "status": "ok",
     "timestamp": 1685882865651,
     "user": {
      "displayName": "Aoi HONDA",
      "userId": "08010918810275718950"
     },
     "user_tz": -540
    },
    "id": "hU4blClE7MpZ"
   },
   "outputs": [],
   "source": [
    "import pandas as pd\n",
    "import torch\n",
    "import torch.nn as nn\n",
    "import csv\n",
    "from sklearn.model_selection import train_test_split\n",
    "from ieinn import ieinn"
   ]
  },
  {
   "cell_type": "markdown",
   "metadata": {
    "id": "6Z8hZB391Bsx"
   },
   "source": [
    "GPUが使える場合は deviceに cuda を設定、そうでなければ cpu を設定します。"
   ]
  },
  {
   "cell_type": "code",
   "execution_count": 2,
   "metadata": {
    "colab": {
     "base_uri": "https://localhost:8080/"
    },
    "executionInfo": {
     "elapsed": 340,
     "status": "ok",
     "timestamp": 1685882866934,
     "user": {
      "displayName": "Aoi HONDA",
      "userId": "08010918810275718950"
     },
     "user_tz": -540
    },
    "id": "w5Vb1Q-77Vrz",
    "outputId": "e2438115-aff4-4b99-d944-fb276d8651f7"
   },
   "outputs": [
    {
     "name": "stdout",
     "output_type": "stream",
     "text": [
      "cpu\n"
     ]
    }
   ],
   "source": [
    "device = 'cuda' if torch.cuda.is_available() else 'cpu'\n",
    "print(device)"
   ]
  },
  {
   "cell_type": "markdown",
   "metadata": {
    "id": "6GN86YW-KxOZ"
   },
   "source": [
    "## データの読み込み\n",
    "データの読み込みと、訓練データと検証データへの分割などの処理をします。"
   ]
  },
  {
   "cell_type": "code",
   "execution_count": 3,
   "metadata": {
    "executionInfo": {
     "elapsed": 704,
     "status": "ok",
     "timestamp": 1685882870251,
     "user": {
      "displayName": "Aoi HONDA",
      "userId": "08010918810275718950"
     },
     "user_tz": -540
    },
    "id": "aZIf79Fm7cnq"
   },
   "outputs": [],
   "source": [
    "df=pd.read_csv('CarEvaluation20221207_2.csv',encoding=\"shift-jis\")\n",
    "# df=pd.read_csv('normalized_car.csv')\n",
    "df=df.drop(0,axis=0)\n",
    "df=df.astype(float)\n",
    "\n",
    "y=pd.DataFrame(df.iloc[:,0])\n",
    "X=pd.DataFrame(df.iloc[:,1:])\n",
    "\n",
    "#Normalize the objective variable\n",
    "\n",
    "X=(X - X.min()) / (X.max() - X.min())\n",
    "y=(y - y.min()) / (y.max() - y.min())\n",
    "\n",
    "# data Generating\n",
    "X_train, X_test, y_train, y_test = train_test_split(X, y, test_size=0.2, random_state=42)\n",
    "\n",
    "# Extract as a numpy array with value and convert to tensor\n",
    "X_train = torch.FloatTensor(X_train.values)\n",
    "y_train = torch.FloatTensor(y_train.values)\n",
    "X_test = torch.FloatTensor(X_test.values)\n",
    "y_test = torch.FloatTensor(y_test.values)"
   ]
  },
  {
   "cell_type": "markdown",
   "metadata": {
    "id": "T4F2AujmLLfC"
   },
   "source": [
    "## データセット、データローダを作成\n",
    "訓練データ、テストデータでそれぞれデータセットを作成し、これらを引数としてデータローダーを作成します。ミニバッチサイズやシャッフルの指定をします。"
   ]
  },
  {
   "cell_type": "code",
   "execution_count": 4,
   "metadata": {
    "executionInfo": {
     "elapsed": 297,
     "status": "ok",
     "timestamp": 1685882882133,
     "user": {
      "displayName": "Aoi HONDA",
      "userId": "08010918810275718950"
     },
     "user_tz": -540
    },
    "id": "hNdy-e8o8yWE"
   },
   "outputs": [],
   "source": [
    "# Dataset creating\n",
    "import os\n",
    "train_dataset = torch.utils.data.TensorDataset(X_train, y_train)\n",
    "test_dataset = torch.utils.data.TensorDataset(X_test, y_test)\n",
    "\n",
    "# DataLoade creating\n",
    "train_loader = torch.utils.data.DataLoader(dataset=train_dataset, \n",
    "                                           batch_size=128, \n",
    "                                           shuffle=True,\n",
    "                                           num_workers=2)\n",
    "\n",
    "test_loader = torch.utils.data.DataLoader(dataset=test_dataset,\n",
    "                                          batch_size=128,\n",
    "                                          shuffle=False,\n",
    "                                          num_workers=2)"
   ]
  },
  {
   "cell_type": "markdown",
   "metadata": {
    "id": "apwWdrL1Lr0r"
   },
   "source": [
    "## 学習モデルの作成\n",
    "インポートした ieinn の IE クラスでモデルを作成します。引数として、訓練データローダ－、ファジィ測度の加法性の次数、積分に用いる多項演算、前処理の種類を渡します。\n",
    "訓練データローダは、上で作成した train_loader、加法性の次数は1から説明変数の数までの整数を渡します。多項演算は、論理積:Min、代数積:Algebraic、限界積:Lukasiewiczなどのt-norm が準備されています。前処理は、PreprocessingLayerPercentile, PreprocessingLayerStandardDeviation, PreprocessingLayerMaxMin から選べます。加法性次数、多項演算、前処理手法を指定しない場合、デフォルトはそれぞれ、完全非加法、代数積、PreprocessingLayerPercentile となっています。"
   ]
  },
  {
   "cell_type": "code",
   "execution_count": 5,
   "metadata": {
    "colab": {
     "base_uri": "https://localhost:8080/"
    },
    "executionInfo": {
     "elapsed": 5691,
     "status": "ok",
     "timestamp": 1685882898906,
     "user": {
      "displayName": "Aoi HONDA",
      "userId": "08010918810275718950"
     },
     "user_tz": -540
    },
    "id": "AQtrN1oX9MRW",
    "outputId": "1849d330-f900-4e70-a8b1-8370c26aabe5"
   },
   "outputs": [
    {
     "name": "stdout",
     "output_type": "stream",
     "text": [
      "IE(\n",
      "  (preprocessing1): PreprocessingLayerStandardDeviation()\n",
      "  (preprocessing2): PreprocessingLayerStandardDeviation()\n",
      "  (preprocessing3): PreprocessingLayerStandardDeviation()\n",
      "  (preprocessing4): PreprocessingLayerStandardDeviation()\n",
      "  (preprocessing5): PreprocessingLayerStandardDeviation()\n",
      "  (preprocessing6): PreprocessingLayerStandardDeviation()\n",
      "  (iei): Algebraic()\n",
      "  (output): OutputLayer()\n",
      ")\n"
     ]
    }
   ],
   "source": [
    "model=ieinn.IE(train_loader, additivity_order=2, narray_op='Algebraic',preprocessing='PreprocessingLayerStandardDeviation', device=device).to(device)\n",
    "criterion = nn.MSELoss() #loss function\n",
    "optimizer = torch.optim.Adam(model.parameters()) #Optimization method\n",
    "print(model)"
   ]
  },
  {
   "cell_type": "markdown",
   "metadata": {
    "id": "DtKOYZfdN_Jf"
   },
   "source": [
    "## 学習前のパラメータを確認"
   ]
  },
  {
   "cell_type": "code",
   "execution_count": 6,
   "metadata": {
    "colab": {
     "base_uri": "https://localhost:8080/"
    },
    "executionInfo": {
     "elapsed": 279,
     "status": "ok",
     "timestamp": 1685882901417,
     "user": {
      "displayName": "Aoi HONDA",
      "userId": "08010918810275718950"
     },
     "user_tz": -540
    },
    "id": "RUMFQvYu9XUj",
    "outputId": "2ec7e9b1-8445-4ca7-8e52-ffeed16d9ba3"
   },
   "outputs": [
    {
     "data": {
      "text/plain": [
       "OrderedDict([('preprocessing1.weight', tensor([[1.0083]])),\n",
       "             ('preprocessing1.bias', tensor([-0.5100])),\n",
       "             ('preprocessing2.weight', tensor([[1.0165]])),\n",
       "             ('preprocessing2.bias', tensor([-0.5058])),\n",
       "             ('preprocessing3.weight', tensor([[1.0041]])),\n",
       "             ('preprocessing3.bias', tensor([-0.5011])),\n",
       "             ('preprocessing4.weight', tensor([[0.9245]])),\n",
       "             ('preprocessing4.bias', tensor([-0.4652])),\n",
       "             ('preprocessing5.weight', tensor([[0.9169]])),\n",
       "             ('preprocessing5.bias', tensor([-0.4578])),\n",
       "             ('preprocessing6.weight', tensor([[0.9170]])),\n",
       "             ('preprocessing6.bias', tensor([-0.4538])),\n",
       "             ('output.weight',\n",
       "              tensor([[0.1667, 0.1667, 0.1667, 0.1667, 0.1667, 0.1667, 0.0000, 0.0000, 0.0000,\n",
       "                       0.0000, 0.0000, 0.0000, 0.0000, 0.0000, 0.0000, 0.0000, 0.0000, 0.0000,\n",
       "                       0.0000, 0.0000, 0.0000]])),\n",
       "             ('output.bias', tensor([0.]))])"
      ]
     },
     "execution_count": 6,
     "metadata": {},
     "output_type": "execute_result"
    }
   ],
   "source": [
    "model.state_dict()"
   ]
  },
  {
   "cell_type": "markdown",
   "metadata": {
    "id": "Xj7kwFeaOGYy"
   },
   "source": [
    "## 学習の実行"
   ]
  },
  {
   "cell_type": "code",
   "execution_count": 7,
   "metadata": {
    "colab": {
     "base_uri": "https://localhost:8080/"
    },
    "executionInfo": {
     "elapsed": 258159,
     "status": "ok",
     "timestamp": 1685883162689,
     "user": {
      "displayName": "Aoi HONDA",
      "userId": "08010918810275718950"
     },
     "user_tz": -540
    },
    "id": "NtPVf9-M9dAE",
    "outputId": "8bdf0971-6098-4cb0-ef06-5d4d54f7ea7e",
    "scrolled": true
   },
   "outputs": [
    {
     "name": "stdout",
     "output_type": "stream",
     "text": [
      "Epoch [1/300], loss: 0.15653938 val_loss: 0.12747598\n"
     ]
    },
    {
     "ename": "KeyboardInterrupt",
     "evalue": "",
     "output_type": "error",
     "traceback": [
      "\u001b[1;31m---------------------------------------------------------------------------\u001b[0m",
      "\u001b[1;31mKeyboardInterrupt\u001b[0m                         Traceback (most recent call last)",
      "Cell \u001b[1;32mIn[7], line 1\u001b[0m\n\u001b[1;32m----> 1\u001b[0m history\u001b[38;5;241m=\u001b[39mmodel\u001b[38;5;241m.\u001b[39mfit_and_valid(train_loader, test_loader, criterion, optimizer, epochs\u001b[38;5;241m=\u001b[39m\u001b[38;5;241m300\u001b[39m, regularization\u001b[38;5;241m=\u001b[39m\u001b[38;5;28;01mTrue\u001b[39;00m, mono_lambda\u001b[38;5;241m=\u001b[39m\u001b[38;5;241m0.2\u001b[39m)\n",
      "File \u001b[1;32m~\\nn\\IEINN_ver2.0\\ieinn\\ieinn.py:141\u001b[0m, in \u001b[0;36mIE.fit_and_valid\u001b[1;34m(self, train_Loader, test_Loader, criterion, optimizer, epochs, regularization, mono_lambda)\u001b[0m\n\u001b[0;32m    139\u001b[0m \u001b[38;5;28mself\u001b[39m\u001b[38;5;241m.\u001b[39meval()\n\u001b[0;32m    140\u001b[0m \u001b[38;5;28;01mwith\u001b[39;00m torch\u001b[38;5;241m.\u001b[39mno_grad():\n\u001b[1;32m--> 141\u001b[0m     \u001b[38;5;28;01mfor\u001b[39;00m images, labels \u001b[38;5;129;01min\u001b[39;00m test_Loader:\n\u001b[0;32m    142\u001b[0m         images \u001b[38;5;241m=\u001b[39m images\u001b[38;5;241m.\u001b[39mto(\u001b[38;5;28mself\u001b[39m\u001b[38;5;241m.\u001b[39mdevice)\n\u001b[0;32m    143\u001b[0m         labels \u001b[38;5;241m=\u001b[39m labels\u001b[38;5;241m.\u001b[39mto(\u001b[38;5;28mself\u001b[39m\u001b[38;5;241m.\u001b[39mdevice)\n",
      "File \u001b[1;32mD:\\miniconda3\\envs\\hoge\\Lib\\site-packages\\torch\\utils\\data\\dataloader.py:701\u001b[0m, in \u001b[0;36m_BaseDataLoaderIter.__next__\u001b[1;34m(self)\u001b[0m\n\u001b[0;32m    698\u001b[0m \u001b[38;5;28;01mif\u001b[39;00m \u001b[38;5;28mself\u001b[39m\u001b[38;5;241m.\u001b[39m_sampler_iter \u001b[38;5;129;01mis\u001b[39;00m \u001b[38;5;28;01mNone\u001b[39;00m:\n\u001b[0;32m    699\u001b[0m     \u001b[38;5;66;03m# TODO(https://github.com/pytorch/pytorch/issues/76750)\u001b[39;00m\n\u001b[0;32m    700\u001b[0m     \u001b[38;5;28mself\u001b[39m\u001b[38;5;241m.\u001b[39m_reset()  \u001b[38;5;66;03m# type: ignore[call-arg]\u001b[39;00m\n\u001b[1;32m--> 701\u001b[0m data \u001b[38;5;241m=\u001b[39m \u001b[38;5;28mself\u001b[39m\u001b[38;5;241m.\u001b[39m_next_data()\n\u001b[0;32m    702\u001b[0m \u001b[38;5;28mself\u001b[39m\u001b[38;5;241m.\u001b[39m_num_yielded \u001b[38;5;241m+\u001b[39m\u001b[38;5;241m=\u001b[39m \u001b[38;5;241m1\u001b[39m\n\u001b[0;32m    703\u001b[0m \u001b[38;5;28;01mif\u001b[39;00m (\n\u001b[0;32m    704\u001b[0m     \u001b[38;5;28mself\u001b[39m\u001b[38;5;241m.\u001b[39m_dataset_kind \u001b[38;5;241m==\u001b[39m _DatasetKind\u001b[38;5;241m.\u001b[39mIterable\n\u001b[0;32m    705\u001b[0m     \u001b[38;5;129;01mand\u001b[39;00m \u001b[38;5;28mself\u001b[39m\u001b[38;5;241m.\u001b[39m_IterableDataset_len_called \u001b[38;5;129;01mis\u001b[39;00m \u001b[38;5;129;01mnot\u001b[39;00m \u001b[38;5;28;01mNone\u001b[39;00m\n\u001b[0;32m    706\u001b[0m     \u001b[38;5;129;01mand\u001b[39;00m \u001b[38;5;28mself\u001b[39m\u001b[38;5;241m.\u001b[39m_num_yielded \u001b[38;5;241m>\u001b[39m \u001b[38;5;28mself\u001b[39m\u001b[38;5;241m.\u001b[39m_IterableDataset_len_called\n\u001b[0;32m    707\u001b[0m ):\n",
      "File \u001b[1;32mD:\\miniconda3\\envs\\hoge\\Lib\\site-packages\\torch\\utils\\data\\dataloader.py:1448\u001b[0m, in \u001b[0;36m_MultiProcessingDataLoaderIter._next_data\u001b[1;34m(self)\u001b[0m\n\u001b[0;32m   1445\u001b[0m     \u001b[38;5;28;01mreturn\u001b[39;00m \u001b[38;5;28mself\u001b[39m\u001b[38;5;241m.\u001b[39m_process_data(data)\n\u001b[0;32m   1447\u001b[0m \u001b[38;5;28;01massert\u001b[39;00m \u001b[38;5;129;01mnot\u001b[39;00m \u001b[38;5;28mself\u001b[39m\u001b[38;5;241m.\u001b[39m_shutdown \u001b[38;5;129;01mand\u001b[39;00m \u001b[38;5;28mself\u001b[39m\u001b[38;5;241m.\u001b[39m_tasks_outstanding \u001b[38;5;241m>\u001b[39m \u001b[38;5;241m0\u001b[39m\n\u001b[1;32m-> 1448\u001b[0m idx, data \u001b[38;5;241m=\u001b[39m \u001b[38;5;28mself\u001b[39m\u001b[38;5;241m.\u001b[39m_get_data()\n\u001b[0;32m   1449\u001b[0m \u001b[38;5;28mself\u001b[39m\u001b[38;5;241m.\u001b[39m_tasks_outstanding \u001b[38;5;241m-\u001b[39m\u001b[38;5;241m=\u001b[39m \u001b[38;5;241m1\u001b[39m\n\u001b[0;32m   1450\u001b[0m \u001b[38;5;28;01mif\u001b[39;00m \u001b[38;5;28mself\u001b[39m\u001b[38;5;241m.\u001b[39m_dataset_kind \u001b[38;5;241m==\u001b[39m _DatasetKind\u001b[38;5;241m.\u001b[39mIterable:\n\u001b[0;32m   1451\u001b[0m     \u001b[38;5;66;03m# Check for _IterableDatasetStopIteration\u001b[39;00m\n",
      "File \u001b[1;32mD:\\miniconda3\\envs\\hoge\\Lib\\site-packages\\torch\\utils\\data\\dataloader.py:1412\u001b[0m, in \u001b[0;36m_MultiProcessingDataLoaderIter._get_data\u001b[1;34m(self)\u001b[0m\n\u001b[0;32m   1408\u001b[0m     \u001b[38;5;66;03m# In this case, `self._data_queue` is a `queue.Queue`,. But we don't\u001b[39;00m\n\u001b[0;32m   1409\u001b[0m     \u001b[38;5;66;03m# need to call `.task_done()` because we don't use `.join()`.\u001b[39;00m\n\u001b[0;32m   1410\u001b[0m \u001b[38;5;28;01melse\u001b[39;00m:\n\u001b[0;32m   1411\u001b[0m     \u001b[38;5;28;01mwhile\u001b[39;00m \u001b[38;5;28;01mTrue\u001b[39;00m:\n\u001b[1;32m-> 1412\u001b[0m         success, data \u001b[38;5;241m=\u001b[39m \u001b[38;5;28mself\u001b[39m\u001b[38;5;241m.\u001b[39m_try_get_data()\n\u001b[0;32m   1413\u001b[0m         \u001b[38;5;28;01mif\u001b[39;00m success:\n\u001b[0;32m   1414\u001b[0m             \u001b[38;5;28;01mreturn\u001b[39;00m data\n",
      "File \u001b[1;32mD:\\miniconda3\\envs\\hoge\\Lib\\site-packages\\torch\\utils\\data\\dataloader.py:1243\u001b[0m, in \u001b[0;36m_MultiProcessingDataLoaderIter._try_get_data\u001b[1;34m(self, timeout)\u001b[0m\n\u001b[0;32m   1230\u001b[0m \u001b[38;5;28;01mdef\u001b[39;00m \u001b[38;5;21m_try_get_data\u001b[39m(\u001b[38;5;28mself\u001b[39m, timeout\u001b[38;5;241m=\u001b[39m_utils\u001b[38;5;241m.\u001b[39mMP_STATUS_CHECK_INTERVAL):\n\u001b[0;32m   1231\u001b[0m     \u001b[38;5;66;03m# Tries to fetch data from `self._data_queue` once for a given timeout.\u001b[39;00m\n\u001b[0;32m   1232\u001b[0m     \u001b[38;5;66;03m# This can also be used as inner loop of fetching without timeout, with\u001b[39;00m\n\u001b[1;32m   (...)\u001b[0m\n\u001b[0;32m   1240\u001b[0m     \u001b[38;5;66;03m# Returns a 2-tuple:\u001b[39;00m\n\u001b[0;32m   1241\u001b[0m     \u001b[38;5;66;03m#   (bool: whether successfully get data, any: data if successful else None)\u001b[39;00m\n\u001b[0;32m   1242\u001b[0m     \u001b[38;5;28;01mtry\u001b[39;00m:\n\u001b[1;32m-> 1243\u001b[0m         data \u001b[38;5;241m=\u001b[39m \u001b[38;5;28mself\u001b[39m\u001b[38;5;241m.\u001b[39m_data_queue\u001b[38;5;241m.\u001b[39mget(timeout\u001b[38;5;241m=\u001b[39mtimeout)\n\u001b[0;32m   1244\u001b[0m         \u001b[38;5;28;01mreturn\u001b[39;00m (\u001b[38;5;28;01mTrue\u001b[39;00m, data)\n\u001b[0;32m   1245\u001b[0m     \u001b[38;5;28;01mexcept\u001b[39;00m \u001b[38;5;167;01mException\u001b[39;00m \u001b[38;5;28;01mas\u001b[39;00m e:\n\u001b[0;32m   1246\u001b[0m         \u001b[38;5;66;03m# At timeout and error, we manually check whether any worker has\u001b[39;00m\n\u001b[0;32m   1247\u001b[0m         \u001b[38;5;66;03m# failed. Note that this is the only mechanism for Windows to detect\u001b[39;00m\n\u001b[0;32m   1248\u001b[0m         \u001b[38;5;66;03m# worker failures.\u001b[39;00m\n",
      "File \u001b[1;32mD:\\miniconda3\\envs\\hoge\\Lib\\multiprocessing\\queues.py:113\u001b[0m, in \u001b[0;36mQueue.get\u001b[1;34m(self, block, timeout)\u001b[0m\n\u001b[0;32m    111\u001b[0m \u001b[38;5;28;01mif\u001b[39;00m block:\n\u001b[0;32m    112\u001b[0m     timeout \u001b[38;5;241m=\u001b[39m deadline \u001b[38;5;241m-\u001b[39m time\u001b[38;5;241m.\u001b[39mmonotonic()\n\u001b[1;32m--> 113\u001b[0m     \u001b[38;5;28;01mif\u001b[39;00m \u001b[38;5;129;01mnot\u001b[39;00m \u001b[38;5;28mself\u001b[39m\u001b[38;5;241m.\u001b[39m_poll(timeout):\n\u001b[0;32m    114\u001b[0m         \u001b[38;5;28;01mraise\u001b[39;00m Empty\n\u001b[0;32m    115\u001b[0m \u001b[38;5;28;01melif\u001b[39;00m \u001b[38;5;129;01mnot\u001b[39;00m \u001b[38;5;28mself\u001b[39m\u001b[38;5;241m.\u001b[39m_poll():\n",
      "File \u001b[1;32mD:\\miniconda3\\envs\\hoge\\Lib\\multiprocessing\\connection.py:257\u001b[0m, in \u001b[0;36m_ConnectionBase.poll\u001b[1;34m(self, timeout)\u001b[0m\n\u001b[0;32m    255\u001b[0m \u001b[38;5;28mself\u001b[39m\u001b[38;5;241m.\u001b[39m_check_closed()\n\u001b[0;32m    256\u001b[0m \u001b[38;5;28mself\u001b[39m\u001b[38;5;241m.\u001b[39m_check_readable()\n\u001b[1;32m--> 257\u001b[0m \u001b[38;5;28;01mreturn\u001b[39;00m \u001b[38;5;28mself\u001b[39m\u001b[38;5;241m.\u001b[39m_poll(timeout)\n",
      "File \u001b[1;32mD:\\miniconda3\\envs\\hoge\\Lib\\multiprocessing\\connection.py:346\u001b[0m, in \u001b[0;36mPipeConnection._poll\u001b[1;34m(self, timeout)\u001b[0m\n\u001b[0;32m    343\u001b[0m \u001b[38;5;28;01mif\u001b[39;00m (\u001b[38;5;28mself\u001b[39m\u001b[38;5;241m.\u001b[39m_got_empty_message \u001b[38;5;129;01mor\u001b[39;00m\n\u001b[0;32m    344\u001b[0m             _winapi\u001b[38;5;241m.\u001b[39mPeekNamedPipe(\u001b[38;5;28mself\u001b[39m\u001b[38;5;241m.\u001b[39m_handle)[\u001b[38;5;241m0\u001b[39m] \u001b[38;5;241m!=\u001b[39m \u001b[38;5;241m0\u001b[39m):\n\u001b[0;32m    345\u001b[0m     \u001b[38;5;28;01mreturn\u001b[39;00m \u001b[38;5;28;01mTrue\u001b[39;00m\n\u001b[1;32m--> 346\u001b[0m \u001b[38;5;28;01mreturn\u001b[39;00m \u001b[38;5;28mbool\u001b[39m(wait([\u001b[38;5;28mself\u001b[39m], timeout))\n",
      "File \u001b[1;32mD:\\miniconda3\\envs\\hoge\\Lib\\multiprocessing\\connection.py:1084\u001b[0m, in \u001b[0;36mwait\u001b[1;34m(object_list, timeout)\u001b[0m\n\u001b[0;32m   1081\u001b[0m                 ready_objects\u001b[38;5;241m.\u001b[39madd(o)\n\u001b[0;32m   1082\u001b[0m                 timeout \u001b[38;5;241m=\u001b[39m \u001b[38;5;241m0\u001b[39m\n\u001b[1;32m-> 1084\u001b[0m     ready_handles \u001b[38;5;241m=\u001b[39m _exhaustive_wait(waithandle_to_obj\u001b[38;5;241m.\u001b[39mkeys(), timeout)\n\u001b[0;32m   1085\u001b[0m \u001b[38;5;28;01mfinally\u001b[39;00m:\n\u001b[0;32m   1086\u001b[0m     \u001b[38;5;66;03m# request that overlapped reads stop\u001b[39;00m\n\u001b[0;32m   1087\u001b[0m     \u001b[38;5;28;01mfor\u001b[39;00m ov \u001b[38;5;129;01min\u001b[39;00m ov_list:\n",
      "File \u001b[1;32mD:\\miniconda3\\envs\\hoge\\Lib\\multiprocessing\\connection.py:1016\u001b[0m, in \u001b[0;36m_exhaustive_wait\u001b[1;34m(handles, timeout)\u001b[0m\n\u001b[0;32m   1014\u001b[0m ready \u001b[38;5;241m=\u001b[39m []\n\u001b[0;32m   1015\u001b[0m \u001b[38;5;28;01mwhile\u001b[39;00m L:\n\u001b[1;32m-> 1016\u001b[0m     res \u001b[38;5;241m=\u001b[39m _winapi\u001b[38;5;241m.\u001b[39mWaitForMultipleObjects(L, \u001b[38;5;28;01mFalse\u001b[39;00m, timeout)\n\u001b[0;32m   1017\u001b[0m     \u001b[38;5;28;01mif\u001b[39;00m res \u001b[38;5;241m==\u001b[39m WAIT_TIMEOUT:\n\u001b[0;32m   1018\u001b[0m         \u001b[38;5;28;01mbreak\u001b[39;00m\n",
      "\u001b[1;31mKeyboardInterrupt\u001b[0m: "
     ]
    }
   ],
   "source": [
    "history=model.fit_and_valid(train_loader, test_loader, criterion, optimizer, epochs=300, regularization=True, mono_lambda=0.2)"
   ]
  },
  {
   "cell_type": "markdown",
   "metadata": {
    "id": "AYKGngVUOLWJ"
   },
   "source": [
    "## 学習結果の表示\n",
    "学習後の決定係数、パラメータ、学習曲線を表示します。"
   ]
  },
  {
   "cell_type": "code",
   "execution_count": 9,
   "metadata": {},
   "outputs": [
    {
     "name": "stdout",
     "output_type": "stream",
     "text": [
      "cpu\n",
      "re\n",
      "cpu\n",
      "re\n",
      "cpu\n",
      "re\n",
      "cpu\n",
      "re\n",
      "cpu\n",
      "re\n",
      "cpu\n",
      "re\n",
      "cpu\n",
      "re\n",
      "cpu\n",
      "re\n",
      "cpu\n",
      "re\n",
      "cpu\n",
      "re\n",
      "cpu\n",
      "re\n",
      "cpu\n",
      "re\n",
      "cpu\n",
      "re\n",
      "cpu\n",
      "re\n",
      "cpu\n",
      "re\n",
      "cpu\n"
     ]
    },
    {
     "data": {
      "text/plain": [
       "0.018250182779579682"
      ]
     },
     "execution_count": 9,
     "metadata": {},
     "output_type": "execute_result"
    }
   ],
   "source": [
    "model.r2_score(test_loader)"
   ]
  },
  {
   "cell_type": "code",
   "execution_count": 145,
   "metadata": {
    "colab": {
     "base_uri": "https://localhost:8080/"
    },
    "executionInfo": {
     "elapsed": 318,
     "status": "ok",
     "timestamp": 1685883171761,
     "user": {
      "displayName": "Aoi HONDA",
      "userId": "08010918810275718950"
     },
     "user_tz": -540
    },
    "id": "AYSKSRSE_inD",
    "outputId": "d52ed0f2-5c04-47b6-d265-8e4355227e50"
   },
   "outputs": [
    {
     "data": {
      "text/plain": [
       "0.6067948412503883"
      ]
     },
     "execution_count": 145,
     "metadata": {},
     "output_type": "execute_result"
    }
   ],
   "source": [
    "model.r2_score(test_loader, device)"
   ]
  },
  {
   "cell_type": "code",
   "execution_count": 146,
   "metadata": {
    "colab": {
     "base_uri": "https://localhost:8080/"
    },
    "executionInfo": {
     "elapsed": 260,
     "status": "ok",
     "timestamp": 1685883174165,
     "user": {
      "displayName": "Aoi HONDA",
      "userId": "08010918810275718950"
     },
     "user_tz": -540
    },
    "id": "zKKuuTSL-YdO",
    "outputId": "5c0d6d56-a43f-4d31-b411-406b5a9ae4b1"
   },
   "outputs": [
    {
     "data": {
      "text/plain": [
       "OrderedDict([('preprocessing1.weight', tensor([[2.0159]])),\n",
       "             ('preprocessing1.bias', tensor([-1.1331])),\n",
       "             ('preprocessing2.weight', tensor([[1.9763]])),\n",
       "             ('preprocessing2.bias', tensor([-0.9921])),\n",
       "             ('preprocessing3.weight', tensor([[1.1822]])),\n",
       "             ('preprocessing3.bias', tensor([-0.6694])),\n",
       "             ('preprocessing4.weight', tensor([[2.8248]])),\n",
       "             ('preprocessing4.bias', tensor([-0.3687])),\n",
       "             ('preprocessing5.weight', tensor([[1.6614]])),\n",
       "             ('preprocessing5.bias', tensor([-0.8422])),\n",
       "             ('preprocessing6.weight', tensor([[2.1693]])),\n",
       "             ('preprocessing6.bias', tensor([-1.0117])),\n",
       "             ('output.weight',\n",
       "              tensor([[0.0045, 0.0011, 0.0554, 0.0021, 0.0032, 0.0027, 0.0389, 0.0280, 0.2111,\n",
       "                       0.1112, 0.3382, 0.0437, 0.1893, 0.1030, 0.2522, 0.0058, 0.0519, 0.0074,\n",
       "                       0.1166, 0.3738, 0.0766]])),\n",
       "             ('output.bias', tensor([-0.4685]))])"
      ]
     },
     "execution_count": 146,
     "metadata": {},
     "output_type": "execute_result"
    }
   ],
   "source": [
    "#np.set_printoptions(suppress=True)\n",
    "torch.set_printoptions(sci_mode=False)\n",
    "model.state_dict()"
   ]
  },
  {
   "cell_type": "code",
   "execution_count": 147,
   "metadata": {},
   "outputs": [
    {
     "data": {
      "text/plain": [
       "[]"
      ]
     },
     "execution_count": 147,
     "metadata": {},
     "output_type": "execute_result"
    }
   ],
   "source": [
    "model.test_monotone()"
   ]
  },
  {
   "cell_type": "code",
   "execution_count": 148,
   "metadata": {
    "colab": {
     "base_uri": "https://localhost:8080/",
     "height": 545
    },
    "executionInfo": {
     "elapsed": 433,
     "status": "ok",
     "timestamp": 1685883177539,
     "user": {
      "displayName": "Aoi HONDA",
      "userId": "08010918810275718950"
     },
     "user_tz": -540
    },
    "id": "HmaUGv0YFBPC",
    "outputId": "81f4c4bd-44cc-4992-b0b9-757079c21973"
   },
   "outputs": [
    {
     "data": {
      "image/png": "[encoded data removed]",
      "text/plain": [
       "<Figure size 800x600 with 1 Axes>"
      ]
     },
     "metadata": {},
     "output_type": "display_data"
    },
    {
     "data": {
      "text/plain": [
       "0"
      ]
     },
     "execution_count": 148,
     "metadata": {},
     "output_type": "execute_result"
    }
   ],
   "source": [
    "model.plot()"
   ]
  },
  {
   "cell_type": "code",
   "execution_count": 149,
   "metadata": {
    "colab": {
     "base_uri": "https://localhost:8080/",
     "height": 545
    },
    "executionInfo": {
     "elapsed": 5,
     "status": "ok",
     "timestamp": 1685883183583,
     "user": {
      "displayName": "Aoi HONDA",
      "userId": "08010918810275718950"
     },
     "user_tz": -540
    },
    "id": "AEEvm7v-_Loz",
    "outputId": "b8d324a5-c7d2-407c-9919-32237b945ecf"
   },
   "outputs": [
    {
     "data": {
      "image/png": "[encoded data removed]",
      "text/plain": [
       "<Figure size 800x600 with 1 Axes>"
      ]
     },
     "metadata": {},
     "output_type": "display_data"
    },
    {
     "data": {
      "text/plain": [
       "0"
      ]
     },
     "execution_count": 149,
     "metadata": {},
     "output_type": "execute_result"
    }
   ],
   "source": [
    "model.plot_train()"
   ]
  },
  {
   "cell_type": "code",
   "execution_count": 150,
   "metadata": {
    "colab": {
     "base_uri": "https://localhost:8080/",
     "height": 545
    },
    "executionInfo": {
     "elapsed": 502,
     "status": "ok",
     "timestamp": 1685883184081,
     "user": {
      "displayName": "Aoi HONDA",
      "userId": "08010918810275718950"
     },
     "user_tz": -540
    },
    "id": "tv86_fVM_fnL",
    "outputId": "a7ea2166-c5bf-4530-f7b3-0b926fbfdca9"
   },
   "outputs": [
    {
     "data": {
      "image/png": "[encoded data removed]",
      "text/plain": [
       "<Figure size 800x600 with 1 Axes>"
      ]
     },
     "metadata": {},
     "output_type": "display_data"
    },
    {
     "data": {
      "text/plain": [
       "0"
      ]
     },
     "execution_count": 150,
     "metadata": {},
     "output_type": "execute_result"
    }
   ],
   "source": [
    "model.plot_test()"
   ]
  },
  {
   "cell_type": "code",
   "execution_count": 151,
   "metadata": {},
   "outputs": [
    {
     "data": {
      "text/plain": [
       "[]"
      ]
     },
     "execution_count": 151,
     "metadata": {},
     "output_type": "execute_result"
    }
   ],
   "source": [
    "model.test_monotone()"
   ]
  },
  {
   "cell_type": "code",
   "execution_count": 155,
   "metadata": {
    "scrolled": true
   },
   "outputs": [
    {
     "data": {
      "text/plain": [
       "{(): 0.0,\n",
       " (1,): 0.0044551813043653965,\n",
       " (2,): 0.0011277684243395925,\n",
       " (3,): 0.05536683276295662,\n",
       " (4,): 0.0020589055493474007,\n",
       " (5,): 0.0032357180025428534,\n",
       " (6,): 0.002683709841221571,\n",
       " (1, 2): 0.044447096646763384,\n",
       " (1, 3): 0.08781440975144506,\n",
       " (1, 4): 0.21760766161605716,\n",
       " (1, 5): 0.11891969316639006,\n",
       " (1, 6): 0.3453544806689024,\n",
       " (2, 3): 0.10019983735401183,\n",
       " (2, 4): 0.19246810779441148,\n",
       " (2, 5): 0.1073868292151019,\n",
       " (2, 6): 0.2559943195665255,\n",
       " (3, 4): 0.06320476485416293,\n",
       " (3, 5): 0.11048760800622404,\n",
       " (3, 6): 0.06541845016181469,\n",
       " (4, 5): 0.12184712546877563,\n",
       " (4, 6): 0.37854739325121045,\n",
       " (5, 6): 0.08252577600069344,\n",
       " (1, 2, 3): 0.17151156126055866,\n",
       " (1, 2, 4): 0.44688101077917963,\n",
       " (1, 2, 5): 0.2619349512970075,\n",
       " (1, 2, 6): 0.6375292373122647,\n",
       " (1, 3, 4): 0.3067459166049957,\n",
       " (1, 3, 5): 0.2541639788541943,\n",
       " (1, 3, 6): 0.43608161667361856,\n",
       " (1, 4, 5): 0.4486246753949672,\n",
       " (1, 4, 6): 0.9323117388412356,\n",
       " (1, 5, 6): 0.5364253406878561,\n",
       " (2, 3, 4): 0.29731920326594263,\n",
       " (2, 3, 5): 0.2583439553854987,\n",
       " (2, 3, 6): 0.36243429605383426,\n",
       " (2, 4, 5): 0.41527967050205916,\n",
       " (2, 4, 6): 0.8211394367972389,\n",
       " (2, 5, 6): 0.43885972851421684,\n",
       " (3, 4, 5): 0.23487804201431572,\n",
       " (3, 4, 6): 0.4470611601136625,\n",
       " (3, 5, 6): 0.19714557356201112,\n",
       " (4, 5, 6): 0.5749419613275677,\n",
       " (1, 2, 3, 4): 0.5797245019348338,\n",
       " (1, 2, 3, 5): 0.44088447315152735,\n",
       " (1, 2, 3, 6): 0.7719616094836965,\n",
       " (1, 2, 4, 5): 0.7809213673463091,\n",
       " (1, 2, 4, 6): 1.4137679293053225,\n",
       " (1, 2, 5, 6): 0.9316234401194379,\n",
       " (1, 3, 4, 5): 0.5896479876246303,\n",
       " (1, 3, 4, 6): 1.0288179013878107,\n",
       " (1, 3, 5, 6): 0.6790375339332968,\n",
       " (1, 4, 5, 6): 1.2399351007770747,\n",
       " (2, 3, 4, 5): 0.5720158232143149,\n",
       " (2, 3, 4, 6): 0.9333584398264065,\n",
       " (2, 3, 5, 6): 0.5971847622422501,\n",
       " (2, 4, 5, 6): 1.1205573476618156,\n",
       " (3, 4, 5, 6): 0.6953407854307443,\n",
       " (1, 2, 3, 4, 5): 0.9656499157426879,\n",
       " (1, 2, 3, 4, 6): 1.5539793280186132,\n",
       " (1, 2, 3, 5, 6): 1.1179408695315942,\n",
       " (1, 2, 4, 5, 6): 1.824414634029381,\n",
       " (1, 3, 4, 5, 6): 1.3883263205643743,\n",
       " (2, 3, 4, 5, 6): 1.2846614079317078,\n",
       " (1, 2, 3, 4, 5, 6): 2.0165110899833962}"
      ]
     },
     "execution_count": 155,
     "metadata": {},
     "output_type": "execute_result"
    }
   ],
   "source": [
    "model.mobius_to_fuzzy()"
   ]
  },
  {
   "cell_type": "code",
   "execution_count": 153,
   "metadata": {},
   "outputs": [
    {
     "data": {
      "text/plain": [
       "{(1,): 0.3681524316780269,\n",
       " (2,): 0.31465626892168075,\n",
       " (3,): 0.12373164435848594,\n",
       " (4,): 0.4503145630005747,\n",
       " (5,): 0.23288373998366296,\n",
       " (6,): 0.526772442040965}"
      ]
     },
     "execution_count": 153,
     "metadata": {},
     "output_type": "execute_result"
    }
   ],
   "source": [
    "model.shapley()"
   ]
  },
  {
   "cell_type": "code",
   "execution_count": 154,
   "metadata": {},
   "outputs": [
    {
     "data": {
      "image/png": "[encoded data removed]",
      "text/plain": [
       "<Figure size 1000x600 with 1 Axes>"
      ]
     },
     "metadata": {},
     "output_type": "display_data"
    },
    {
     "data": {
      "text/plain": [
       "0"
      ]
     },
     "execution_count": 154,
     "metadata": {},
     "output_type": "execute_result"
    }
   ],
   "source": [
    "model.shapley_plot(X.columns)"
   ]
  },
  {
   "cell_type": "code",
   "execution_count": 8,
   "metadata": {},
   "outputs": [
    {
     "data": {
      "text/plain": [
       "IE(\n",
       "  (preprocessing1): PreprocessingLayerStandardDeviation()\n",
       "  (preprocessing2): PreprocessingLayerStandardDeviation()\n",
       "  (preprocessing3): PreprocessingLayerStandardDeviation()\n",
       "  (preprocessing4): PreprocessingLayerStandardDeviation()\n",
       "  (preprocessing5): PreprocessingLayerStandardDeviation()\n",
       "  (preprocessing6): PreprocessingLayerStandardDeviation()\n",
       "  (iei): Algebraic()\n",
       "  (output): OutputLayer()\n",
       ")"
      ]
     },
     "execution_count": 8,
     "metadata": {},
     "output_type": "execute_result"
    }
   ],
   "source": [
    "model"
   ]
  },
  {
   "cell_type": "code",
   "execution_count": 9,
   "metadata": {},
   "outputs": [],
   "source": [
    "def shapley(model):\n",
    "        additivity_sets = (model.power_sets_additivity_order()) \n",
    "        output_weight = (model.output.weight).to('cpu').detach().numpy().copy()\n",
    "        \n",
    "        output_weight_list = output_weight[0].tolist()\n",
    "        output_weight_list.insert(0, 0)\n",
    "        data = np.array(output_weight_list)\n",
    "        dict_fuzzy = dict(zip(additivity_sets, data))\n",
    "        print(dict_fuzzy)\n",
    "        shapley = []\n",
    "        for i in range(1, model.columns_num+1):\n",
    "            shapley_value = 0\n",
    "            A = additivity_sets[i]\n",
    "            for B in additivity_sets:\n",
    "                if set(A) <= set(B):\n",
    "                    shapley_value += dict_fuzzy[B] / len(B)\n",
    "            shapley.append(shapley_value) \n",
    "        print(shapley)\n",
    "        shapley = dict(zip(additivity_sets[1:], shapley))\n",
    "        return shapley"
   ]
  },
  {
   "cell_type": "code",
   "execution_count": 11,
   "metadata": {},
   "outputs": [
    {
     "name": "stdout",
     "output_type": "stream",
     "text": [
      "{(): 0.0, (1,): 0.14560826122760773, (2,): 0.14558738470077515, (3,): 0.14555609226226807, (4,): 0.1456376165151596, (5,): 0.14559528231620789, (6,): 0.1456233412027359, (1, 2): -0.021002117544412613, (1, 3): -0.02104523777961731, (1, 4): -0.020955894142389297, (1, 5): -0.021004164591431618, (1, 6): -0.020959464833140373, (2, 3): -0.021075021475553513, (2, 4): -0.02097926288843155, (2, 5): -0.021007023751735687, (2, 6): -0.020979056134819984, (3, 4): -0.0210166797041893, (3, 5): -0.021069323644042015, (3, 6): -0.021022910252213478, (4, 5): -0.020974379032850266, (4, 6): -0.020925387740135193, (5, 6): -0.02098822221159935}\n",
      "[0.09312482178211212, 0.09306614380329847, 0.09294150583446026, 0.0932118147611618, 0.09307372570037842, 0.09318582061678171]\n"
     ]
    },
    {
     "data": {
      "text/plain": [
       "{(1,): 0.09312482178211212,\n",
       " (2,): 0.09306614380329847,\n",
       " (3,): 0.09294150583446026,\n",
       " (4,): 0.0932118147611618,\n",
       " (5,): 0.09307372570037842,\n",
       " (6,): 0.09318582061678171}"
      ]
     },
     "execution_count": 11,
     "metadata": {},
     "output_type": "execute_result"
    }
   ],
   "source": [
    "import numpy as np\n",
    "shapley(model)"
   ]
  },
  {
   "cell_type": "code",
   "execution_count": null,
   "metadata": {},
   "outputs": [],
   "source": [
    "(self.output.weight).to('cpu').detach().numpy().copy()"
   ]
  },
  {
   "cell_type": "code",
   "execution_count": 19,
   "metadata": {},
   "outputs": [
    {
     "data": {
      "text/plain": [
       "tensor([ 0.1456,  0.1456,  0.1456,  0.1456,  0.1456,  0.1456, -0.0210, -0.0210,\n",
       "        -0.0210, -0.0210, -0.0210, -0.0211, -0.0210, -0.0210, -0.0210, -0.0210,\n",
       "        -0.0211, -0.0210, -0.0210, -0.0209, -0.0210],\n",
       "       grad_fn=<SelectBackward0>)"
      ]
     },
     "execution_count": 19,
     "metadata": {},
     "output_type": "execute_result"
    }
   ],
   "source": [
    "model.output.weight[0]#.to('cpu').detach().numpy().copy()"
   ]
  },
  {
   "cell_type": "code",
   "execution_count": null,
   "metadata": {},
   "outputs": [],
   "source": []
  }
 ],
 "metadata": {
  "accelerator": "GPU",
  "colab": {
   "authorship_tag": "ABX9TyOXI/QJftkZRX5ycDFRN1i5",
   "provenance": [
    {
     "file_id": "1BZrAiMJQxLXm9_3HEe_m3N3eNcXs4yWx",
     "timestamp": 1685600322377
    }
   ]
  },
  "gpuClass": "standard",
  "kernelspec": {
   "display_name": "Python 3 (ipykernel)",
   "language": "python",
   "name": "python3"
  },
  "language_info": {
   "codemirror_mode": {
    "name": "ipython",
    "version": 3
   },
   "file_extension": ".py",
   "mimetype": "text/x-python",
   "name": "python",
   "nbconvert_exporter": "python",
   "pygments_lexer": "ipython3",
   "version": "3.12.4"
  }
 },
 "nbformat": 4,
 "nbformat_minor": 4
}
